{
 "cells": [
  {
   "cell_type": "markdown",
   "metadata": {
    "pycharm": {
     "name": "#%% md\n"
    }
   },
   "source": [
    "# Compendium\n",
    "A text summarizer based on Attention mechanism"
   ]
  },
  {
   "cell_type": "markdown",
   "metadata": {
    "pycharm": {
     "name": "#%% md\n"
    }
   },
   "source": [
    "### Import required library\n",
    "The cell below import required library, we will be using torchtext for preprocessing as it does all the prossing for us. "
   ]
  },
  {
   "cell_type": "code",
   "execution_count": 1,
   "metadata": {},
   "outputs": [],
   "source": [
    "#import required library\n",
    "import math\n",
    "import dill\n",
    "\n",
    "import spacy\n",
    "import seaborn as sns\n",
    "import matplotlib.ticker as ticker\n",
    "\n",
    "import torch\n",
    "from torch import nn\n",
    "from torch import optim\n",
    "import torch.nn.functional as F\n",
    "\n",
    "from torchtext.datasets import TranslationDataset\n",
    "from torchtext.data import Field, BucketIterator, TabularDataset\n",
    "\n",
    "import time\n",
    "import random\n",
    "\n",
    "from helper.helper import *\n",
    "\n",
    "#set device tp cuda if gpu available\n",
    "device = torch.device('cuda' if torch.cuda.is_available() else 'cpu')"
   ]
  },
  {
   "cell_type": "markdown",
   "metadata": {
    "pycharm": {
     "name": "#%% md\n"
    }
   },
   "source": [
    "### Torchtext Field\n",
    "Initlizing Field for our source and target feature. using,\n",
    "1. spacy tokenizer for tokenization. It will use deafult lang for spacy tokenizer ie. English. \n",
    "2. defined start of sting and end of string token `<sos>` & `<eos>` respectively. \n",
    "3. Further will be using packing of input so for source field changed `include_length` to `True`."
   ]
  },
  {
   "cell_type": "code",
   "execution_count": null,
   "metadata": {},
   "outputs": [],
   "source": [
    "### initlize Field for source article and target summary\n",
    "ARTICLE = Field(tokenize='spacy',\n",
    "                init_token='<sos>',\n",
    "                eos_token='<eos>',\n",
    "                lower=True,\n",
    "                include_lengths=True\n",
    "                )\n",
    "SUMMARY = Field(tokenize='spacy',\n",
    "                init_token='<sos>',\n",
    "                eos_token='<eos>',\n",
    "                lower=True,\n",
    "                )"
   ]
  },
  {
   "cell_type": "markdown",
   "metadata": {
    "pycharm": {
     "name": "#%% md\n"
    }
   },
   "source": [
    "### Load dataset\n",
    "Used TabularDataset for loading train, test and validation dataset."
   ]
  },
  {
   "cell_type": "code",
   "execution_count": 24,
   "metadata": {},
   "outputs": [],
   "source": [
    "#load train, test, val data\n",
    "train_data, valid_data, test_data = TabularDataset.splits(\n",
    "                                                    path=\"./data\",\n",
    "                                                    train='train.csv',\n",
    "                                                    validation='val.csv',\n",
    "                                                    test='test.csv', \n",
    "                                                    format='csv',\n",
    "                                                    fields=[(\"text\",ARTICLE),('headline',SUMMARY)]\n",
    "                                                        )"
   ]
  },
  {
   "cell_type": "code",
   "execution_count": 4,
   "metadata": {},
   "outputs": [],
   "source": [
    "#set up vocab for article and summary from train data.\n",
    "ARTICLE.build_vocab(train_data, min_freq=2)\n",
    "SUMMARY.build_vocab(train_data, min_freq=2)"
   ]
  },
  {
   "cell_type": "markdown",
   "metadata": {
    "pycharm": {
     "name": "#%% md\n"
    }
   },
   "source": [
    "### Checkpoint I\n",
    "Saving article and summary Field for further use."
   ]
  },
  {
   "cell_type": "code",
   "execution_count": 5,
   "metadata": {},
   "outputs": [],
   "source": [
    "#Save article and summary field as loading it takes around 3-4 mins\n",
    "with open(\"./model/ARTICLE.Field\",\"wb\")as f:\n",
    "     dill.dump(ARTICLE,f)\n",
    "with open(\"./model/SUMMARY.Field\",\"wb\")as f:\n",
    "     dill.dump(SUMMARY,f)"
   ]
  },
  {
   "cell_type": "markdown",
   "metadata": {
    "pycharm": {
     "name": "#%% md\n"
    }
   },
   "source": [
    "### DataIterator\n",
    "setting up dataloader using BucketIterator. BuketIterator is used because it group data such that minium padding is required."
   ]
  },
  {
   "cell_type": "code",
   "execution_count": 6,
   "metadata": {},
   "outputs": [],
   "source": [
    "#Get train, valid, and test itterator\n",
    "BATCH_SIZE = 64\n",
    "\n",
    "train_loader, valid_loader, test_loader = BucketIterator.splits(\n",
    "                                                            (train_data, valid_data, test_data),\n",
    "                                                            batch_size=BATCH_SIZE,\n",
    "                                                            sort_within_batch=True,\n",
    "                                                            sort_key = lambda x:len(x.text),\n",
    "                                                            device=device\n",
    "                                                                )"
   ]
  },
  {
   "cell_type": "markdown",
   "metadata": {
    "pycharm": {
     "name": "#%% md\n"
    }
   },
   "source": [
    "## Model\n",
    "Creating encoder decoder seq2seq model using Attention. \n",
    "1. It will take a seq of text ie. article, and pass it through encdoder and produce a list of hidden states in each time step. \n",
    "2. The list of hidden layer will be input to the decoder layer along with token `<sos>` and hidden states.\n",
    "3. The attention will take current decoder hidden state and a list of encoder hidden states, calculates score and create context vector based on score.\n",
    "4. The context vector and ouput of decoder rnn will be concatinated and passed to afully contected feed forward layer to generate ouput.\n",
    "5. steps 2, 3, 4 will be repeated unitl either max len is achieved or `<eos>` is predicted."
   ]
  },
  {
   "cell_type": "markdown",
   "metadata": {
    "pycharm": {
     "name": "#%% md\n"
    }
   },
   "source": [
    "### Encoder\n",
    "Passes seq of string to budirection GRU to encode it into vectors."
   ]
  },
  {
   "cell_type": "code",
   "execution_count": 7,
   "metadata": {},
   "outputs": [],
   "source": [
    "#Encoder class, encodes article to vector\n",
    "\n",
    "class Encoder(nn.Module):\n",
    "    \n",
    "    \n",
    "    def __init__(self, vocab, embeding_dim, encoder_hidden_dim, decoder_hidden_dim, dropout):\n",
    "        super().__init__()\n",
    "        \n",
    "        self.embedding = nn.Embedding(vocab, embeding_dim)\n",
    "        self.rnn = nn.GRU(embeding_dim, encoder_hidden_dim, bidirectional = True)\n",
    "        self.fc = nn.Linear(encoder_hidden_dim*2, decoder_hidden_dim)\n",
    "        \n",
    "        self.dropout = nn.Dropout(p=dropout)\n",
    "   \n",
    "\n",
    "    def forward(self, text, text_len):\n",
    "        embedded = self.dropout(self.embedding(text))\n",
    "        packed_embedded = nn.utils.rnn.pack_padded_sequence(embedded, text_len)\n",
    "        packed_outputs, hidden = self.rnn(packed_embedded) \n",
    "        outputs, _ = nn.utils.rnn.pad_packed_sequence(packed_outputs)\n",
    "        hidden = torch.tanh(self.fc(torch.cat((hidden[-2,:,:], hidden[-1,:,:]), dim = 1)))\n",
    "        \n",
    "        return outputs, hidden"
   ]
  },
  {
   "cell_type": "markdown",
   "metadata": {
    "pycharm": {
     "name": "#%% md\n"
    }
   },
   "source": [
    "### Attention Mechanism\n",
    "Takes encoder hidden layer and decoder hidden layer, scores it and return context vector."
   ]
  },
  {
   "cell_type": "code",
   "execution_count": 8,
   "metadata": {},
   "outputs": [],
   "source": [
    "# Attention machanism to take encoder hidden states and current decoder state and generate context vector\n",
    "class Attention(nn.Module):\n",
    "    \n",
    "    \n",
    "    def __init__(self, enc_hid_dim, dec_hid_dim ):\n",
    "        super().__init__()\n",
    "        self.attn = nn.Linear((enc_hid_dim * 2) + dec_hid_dim, dec_hid_dim)\n",
    "        self.v = nn.Linear(dec_hid_dim, 1, bias = False)\n",
    "    \n",
    "\n",
    "    def forward(self, hidden, encoder_outputs, mask):      \n",
    "        batch_size = encoder_outputs.shape[1]\n",
    "        src_len = encoder_outputs.shape[0]\n",
    "        \n",
    "        hidden = hidden.unsqueeze(1).repeat(1, src_len, 1)        \n",
    "        encoder_outputs = encoder_outputs.permute(1, 0, 2)\n",
    "        \n",
    "        energy = torch.tanh(self.attn(torch.cat((hidden, encoder_outputs), dim = 2))) \n",
    "        \n",
    "        attention = self.v(energy).squeeze(2)\n",
    "        attention = attention.masked_fill(mask == 0, -1e10)\n",
    "        \n",
    "        return F.softmax(attention, dim = 1)"
   ]
  },
  {
   "cell_type": "markdown",
   "metadata": {
    "pycharm": {
     "name": "#%% md\n"
    }
   },
   "source": [
    "### Decoder\n",
    "Decoder model takes encoder hidden states and (t-1) input ang generate output with attention mech."
   ]
  },
  {
   "cell_type": "code",
   "execution_count": 9,
   "metadata": {},
   "outputs": [],
   "source": [
    "class Decoder(nn.Module):\n",
    "    def __init__(self, output_dim, emb_dim, enc_hid_dim, dec_hid_dim, dropout, attention):\n",
    "        super().__init__()\n",
    "        \n",
    "        self.output_dim = output_dim\n",
    "        self.attention = attention\n",
    "        \n",
    "        self.embedding = nn.Embedding(output_dim, emb_dim)        \n",
    "        self.rnn = nn.GRU((enc_hid_dim * 2) + emb_dim, dec_hid_dim)\n",
    "        self.fc_out = nn.Linear((enc_hid_dim * 2) + dec_hid_dim + emb_dim, output_dim)        \n",
    "        \n",
    "        self.dropout = nn.Dropout(dropout)\n",
    "        \n",
    "    def forward(self, input_, hidden, encoder_outputs, mask):\n",
    "    \n",
    "        input_ = input_.unsqueeze(0)\n",
    "        embedded = self.dropout(self.embedding(input_))\n",
    "\n",
    "        atten = self.attention(hidden, encoder_outputs, mask)        \n",
    "        atten = atten.unsqueeze(1)\n",
    "        \n",
    "        encoder_outputs = encoder_outputs.permute(1, 0, 2)\n",
    "        weighted = torch.bmm(atten, encoder_outputs)\n",
    "        \n",
    "        weighted = weighted.permute(1, 0, 2)        \n",
    "        rnn_input_ = torch.cat((embedded, weighted), dim = 2)\n",
    "            \n",
    "        output, hidden = self.rnn(rnn_input_, hidden.unsqueeze(0))\n",
    "              \n",
    "        embedded = embedded.squeeze(0)\n",
    "        output = output.squeeze(0)\n",
    "        weighted = weighted.squeeze(0)\n",
    "        \n",
    "        prediction = self.fc_out(torch.cat((output, weighted, embedded), dim = 1))\n",
    "        \n",
    "        return prediction, hidden.squeeze(0), atten.squeeze(1)"
   ]
  },
  {
   "cell_type": "markdown",
   "metadata": {
    "pycharm": {
     "name": "#%% md\n"
    }
   },
   "source": [
    "### Seq2Seq Model\n",
    "Encapsulate Encoder Decor model."
   ]
  },
  {
   "cell_type": "code",
   "execution_count": 10,
   "metadata": {},
   "outputs": [],
   "source": [
    "class Seq2Seq(nn.Module):\n",
    "    def __init__(self, encoder, decoder, text_pad_idx, device):\n",
    "        super().__init__()\n",
    "        \n",
    "        self.encoder = encoder\n",
    "        self.decoder = decoder\n",
    "        self.text_pad_idx = text_pad_idx\n",
    "        self.device = device\n",
    "        \n",
    "    def create_mask(self, text):\n",
    "        mask = (text != self.text_pad_idx).permute(1, 0)\n",
    "        return mask\n",
    "        \n",
    "    def forward(self, text, text_len, headline, teacher_forcing_ratio = 0.5):\n",
    "        batch_size = text.shape[1]\n",
    "        headline_len = headline.shape[0]\n",
    "        headline_vocab_size = self.decoder.output_dim\n",
    "\n",
    "        outputs = torch.zeros(headline_len, batch_size, headline_vocab_size).to(self.device)\n",
    "      \n",
    "        encoder_outputs, hidden = self.encoder(text, text_len)\n",
    "       \n",
    "        input_ = headline[0,:]\n",
    "        \n",
    "        mask = self.create_mask(text)\n",
    "                \n",
    "        for t in range(1, headline_len):\n",
    "            \n",
    "            output, hidden, _ = self.decoder(input_, hidden, encoder_outputs, mask)           \n",
    "            outputs[t] = output\n",
    "            teacher_force = random.random() < teacher_forcing_ratio            \n",
    "            top1 = output.argmax(1)             \n",
    "            input_ = headline[t] if teacher_force else top1\n",
    "            \n",
    "        return outputs"
   ]
  },
  {
   "cell_type": "markdown",
   "metadata": {
    "pycharm": {
     "name": "#%% md\n"
    }
   },
   "source": [
    "Loading saved article and summary fields. "
   ]
  },
  {
   "cell_type": "code",
   "execution_count": 12,
   "metadata": {},
   "outputs": [],
   "source": [
    "#load saved artucle and summary field \n",
    "#only run in case of new or kernal restart\n",
    "\n",
    "with open(\"./brain/ARTICLE.Field\",\"rb\")as f:\n",
    "     ARTICLE=dill.load(f)\n",
    "with open(\"./brain/SUMMARY.Field\",\"rb\")as f:\n",
    "     SUMMARY=dill.load(f)"
   ]
  },
  {
   "cell_type": "markdown",
   "metadata": {
    "pycharm": {
     "name": "#%% md\n"
    }
   },
   "source": [
    "### Model Initilization \n",
    "Initilize model with parameters "
   ]
  },
  {
   "cell_type": "code",
   "execution_count": 13,
   "metadata": {},
   "outputs": [],
   "source": [
    "# model parameters, dimension kept less due to memory issue.\n",
    "\n",
    "INPUT_DIM = len(ARTICLE.vocab)\n",
    "OUTPUT_DIM = len(SUMMARY.vocab)\n",
    "ENC_EMB_DIM = 256\n",
    "DEC_EMB_DIM = 256\n",
    "ENC_HID_DIM = 512\n",
    "DEC_HID_DIM = 512\n",
    "ENC_DROPOUT = 0.5\n",
    "DEC_DROPOUT = 0.5\n",
    "ARTICLE_PAD_IDX = ARTICLE.vocab.stoi[ARTICLE.pad_token]\n",
    "\n",
    "attn = Attention(ENC_HID_DIM, DEC_HID_DIM)\n",
    "enc = Encoder(INPUT_DIM, ENC_EMB_DIM, ENC_HID_DIM, DEC_HID_DIM, ENC_DROPOUT)\n",
    "dec = Decoder(OUTPUT_DIM, DEC_EMB_DIM, ENC_HID_DIM, DEC_HID_DIM, DEC_DROPOUT, attn)\n",
    "\n",
    "model = Seq2Seq(enc, dec, ARTICLE_PAD_IDX, device).to(device)"
   ]
  },
  {
   "cell_type": "code",
   "execution_count": 14,
   "metadata": {
    "scrolled": true
   },
   "outputs": [
    {
     "name": "stdout",
     "output_type": "stream",
     "text": [
      "Seq2Seq(\n",
      "  (encoder): Encoder(\n",
      "    (embedding): Embedding(50629, 256)\n",
      "    (rnn): GRU(256, 512, bidirectional=True)\n",
      "    (fc): Linear(in_features=1024, out_features=512, bias=True)\n",
      "    (dropout): Dropout(p=0.5, inplace=False)\n",
      "  )\n",
      "  (decoder): Decoder(\n",
      "    (attention): Attention(\n",
      "      (attn): Linear(in_features=1536, out_features=512, bias=True)\n",
      "      (v): Linear(in_features=512, out_features=1, bias=False)\n",
      "    )\n",
      "    (embedding): Embedding(21464, 256)\n",
      "    (rnn): GRU(1280, 512)\n",
      "    (fc_out): Linear(in_features=1792, out_features=21464, bias=True)\n",
      "    (dropout): Dropout(p=0.5, inplace=False)\n",
      "  )\n",
      ")\n"
     ]
    }
   ],
   "source": [
    "print(model)"
   ]
  },
  {
   "cell_type": "markdown",
   "metadata": {},
   "source": [
    "###  Optimizer and Cost Function"
   ]
  },
  {
   "cell_type": "code",
   "execution_count": 15,
   "metadata": {},
   "outputs": [],
   "source": [
    "#setup optimizer for training model\n",
    "\n",
    "optimizer = optim.Adam(model.parameters())"
   ]
  },
  {
   "cell_type": "code",
   "execution_count": 16,
   "metadata": {},
   "outputs": [],
   "source": [
    "#setiup loss function ignoring pad index\n",
    "\n",
    "SUMMARY_PAD_IDX = SUMMARY.vocab.stoi[SUMMARY.pad_token]\n",
    "\n",
    "criterion = nn.CrossEntropyLoss(ignore_index = SUMMARY_PAD_IDX)"
   ]
  },
  {
   "cell_type": "markdown",
   "metadata": {},
   "source": [
    "#### Training and Evalution functions"
   ]
  },
  {
   "cell_type": "code",
   "execution_count": 17,
   "metadata": {},
   "outputs": [],
   "source": [
    "#function to train model\n",
    "def train(model, iterator, optimizer, criterion, clip):\n",
    "    \n",
    "    model.train()\n",
    "    \n",
    "    epoch_loss = 0\n",
    "    \n",
    "    for i, batch in enumerate(iterator):\n",
    "        \n",
    "        text, text_len = batch.text\n",
    "        headline = batch.headline\n",
    "        \n",
    "        optimizer.zero_grad()\n",
    "        \n",
    "        output = model(text, text_len, headline)\n",
    "        \n",
    "        #trg = [trg len, batch size]\n",
    "        #output = [trg len, batch size, output dim]\n",
    "        \n",
    "        output_dim = output.shape[-1]\n",
    "        \n",
    "        output = output[1:].view(-1, output_dim)\n",
    "        headline = headline[1:].view(-1)\n",
    "        \n",
    "        #trg = [(trg len - 1) * batch size]\n",
    "        #output = [(trg len - 1) * batch size, output dim]\n",
    "        \n",
    "        loss = criterion(output, headline)\n",
    "        \n",
    "        loss.backward()\n",
    "        \n",
    "        torch.nn.utils.clip_grad_norm_(model.parameters(), clip)\n",
    "        \n",
    "        optimizer.step()\n",
    "        \n",
    "        epoch_loss += loss.item()\n",
    "        \n",
    "    return epoch_loss / len(iterator)"
   ]
  },
  {
   "cell_type": "code",
   "execution_count": 18,
   "metadata": {},
   "outputs": [],
   "source": [
    "#functio to retuen val loss\n",
    "def evaluate(model, iterator, criterion):\n",
    "    \n",
    "    model.eval()\n",
    "    \n",
    "    epoch_loss = 0\n",
    "    \n",
    "    with torch.no_grad():\n",
    "    \n",
    "        for i, batch in enumerate(iterator):\n",
    "\n",
    "            text, text_len = batch.text\n",
    "            headline = batch.headline\n",
    "\n",
    "            output = model(text, text_len, headline, 0) #turn off teacher forcing\n",
    "            \n",
    "            #headline = [headline len, batch size]\n",
    "            #output = [headline len, batch size, output dim]\n",
    "\n",
    "            output_dim = output.shape[-1]\n",
    "            \n",
    "            output = output[1:].view(-1, output_dim)\n",
    "            headline = headline[1:].view(-1)\n",
    "\n",
    "            #headline = [(headline len - 1) * batch size]\n",
    "            #output = [(headline len - 1) * batch size, output dim]\n",
    "\n",
    "            loss = criterion(output, headline)\n",
    "\n",
    "            epoch_loss += loss.item()\n",
    "        \n",
    "    return epoch_loss / len(iterator)"
   ]
  },
  {
   "cell_type": "markdown",
   "metadata": {},
   "source": [
    "#### Training Model\n",
    "Modl trainig and saving best fitted model"
   ]
  },
  {
   "cell_type": "code",
   "execution_count": 19,
   "metadata": {},
   "outputs": [
    {
     "name": "stdout",
     "output_type": "stream",
     "text": [
      "Epoch:  1 | Time: 17m 32s\n",
      "\tTrain Loss: 6.516 | Train PPL: 675.857\n",
      "\t Val. Loss: 5.866 |  Val. PPL: 352.771\n",
      "\t Val. Loss: 5.866 |  Val. PPL: 352.771\n",
      "Epoch:  2 | Time: 17m 35s\n",
      "\tTrain Loss: 5.143 | Train PPL: 171.205\n",
      "\t Val. Loss: 4.749 |  Val. PPL: 115.512\n",
      "Epoch:  3 | Time: 17m 37s\n",
      "\tTrain Loss: 4.185 | Train PPL:  65.693\n",
      "\t Val. Loss: 4.045 |  Val. PPL:  57.087\n",
      "Epoch:  4 | Time: 17m 36s\n",
      "\tTrain Loss: 3.438 | Train PPL:  31.139\n",
      "\t Val. Loss: 3.576 |  Val. PPL:  35.717\n",
      "Epoch:  5 | Time: 17m 36s\n",
      "\tTrain Loss: 2.922 | Train PPL:  18.576\n",
      "\t Val. Loss: 3.328 |  Val. PPL:  27.882\n",
      "Epoch:  6 | Time: 17m 38s\n",
      "\tTrain Loss: 2.602 | Train PPL:  13.486\n",
      "\t Val. Loss: 3.147 |  Val. PPL:  23.277\n",
      "Epoch:  7 | Time: 17m 38s\n",
      "\tTrain Loss: 2.373 | Train PPL:  10.726\n",
      "\t Val. Loss: 2.992 |  Val. PPL:  19.920\n",
      "Epoch:  8 | Time: 17m 39s\n",
      "\tTrain Loss: 2.184 | Train PPL:   8.886\n",
      "\t Val. Loss: 2.878 |  Val. PPL:  17.785\n",
      "Epoch:  9 | Time: 17m 40s\n",
      "\tTrain Loss: 2.017 | Train PPL:   7.518\n",
      "\t Val. Loss: 2.802 |  Val. PPL:  16.475\n",
      "Epoch:  10 | Time: 17m 39s\n",
      "\tTrain Loss: 1.903 | Train PPL:   6.705\n",
      "\t Val. Loss: 2.746 |  Val. PPL:  15.587\n",
      "Epoch: 11 | Time: 17m 41s\n",
      "\tTrain Loss: 1.808 | Train PPL:   6.098\n",
      "\t Val. Loss: 2.683 |  Val. PPL:  14.623\n",
      "Epoch:  12 | Time: 17m 37s\n",
      "\tTrain Loss: 1.712 | Train PPL:   5.541\n",
      "\t Val. Loss: 2.650 |  Val. PPL:  14.152\n",
      "Epoch:  13 | Time: 17m 41s\n",
      "\tTrain Loss: 1.644 | Train PPL:   5.174\n",
      "\t Val. Loss: 2.601 |  Val. PPL:  13.475\n",
      "Epoch:  14 | Time: 17m 41s\n",
      "\tTrain Loss: 1.585 | Train PPL:   4.877\n",
      "\t Val. Loss: 2.569 |  Val. PPL:  13.048\n",
      "Epoch:  15 | Time: 17m 41s\n",
      "\tTrain Loss: 1.541 | Train PPL:   4.670\n",
      "\t Val. Loss: 2.517 |  Val. PPL:  12.388\n",
      "Epoch:  16 | Time: 17m 42s\n",
      "\tTrain Loss: 1.477 | Train PPL:   4.378\n",
      "\t Val. Loss: 2.510 |  Val. PPL:  12.306\n",
      "Epoch:  17 | Time: 17m 40s\n",
      "\tTrain Loss: 1.443 | Train PPL:   4.235\n",
      "\t Val. Loss: 2.484 |  Val. PPL:  11.988\n",
      "Epoch:  18 | Time: 17m 41s\n",
      "\tTrain Loss: 1.408 | Train PPL:   4.088\n",
      "\t Val. Loss: 2.474 |  Val. PPL:  11.869\n",
      "Epoch:  19 | Time: 17m 42s\n",
      "\tTrain Loss: 1.378 | Train PPL:   3.966\n",
      "\t Val. Loss: 2.440 |  Val. PPL:  11.479\n",
      "Epoch:  20 | Time: 17m 41s\n",
      "\tTrain Loss: 1.339 | Train PPL:   3.815\n",
      "\t Val. Loss: 2.456 |  Val. PPL:  11.661\n",
      "Epoch: 21 | Time: 17m 43s\n",
      "\tTrain Loss: 1.309 | Train PPL:   3.701\n",
      "\t Val. Loss: 2.422 |  Val. PPL:  11.268\n",
      "Epoch: 22 | Time: 17m 42s\n",
      "\tTrain Loss: 1.286 | Train PPL:   3.618\n",
      "\t Val. Loss: 2.432 |  Val. PPL:  11.386\n",
      "Epoch: 23 | Time: 17m 43s\n",
      "\tTrain Loss: 1.275 | Train PPL:   3.580\n",
      "\t Val. Loss: 2.395 |  Val. PPL:  10.967\n",
      "Epoch: 24 | Time: 17m 42s\n",
      "\tTrain Loss: 1.252 | Train PPL:   3.497\n",
      "\t Val. Loss: 2.383 |  Val. PPL:  10.842\n"
     ]
    }
   ],
   "source": [
    "# trainig model\n",
    "\n",
    "N_EPOCHS = 24\n",
    "N_EPOCHS = 25\n",
    "CLIP = 1\n",
    "\n",
    "best_valid_loss = float('inf')\n",
    "\n",
    "for epoch in range(N_EPOCHS):\n",
    "    \n",
    "    start_time = time.time()\n",
    "    \n",
    "    train_loss = train(model, train_loader, optimizer, criterion, CLIP)\n",
    "    valid_loss = evaluate(model, valid_loader, criterion)\n",
    "    \n",
    "    end_time = time.time()\n",
    "    \n",
    "    epoch_mins, epoch_secs = epoch_time(start_time, end_time)\n",
    "    \n",
    "    if valid_loss < best_valid_loss:\n",
    "        best_valid_loss = valid_loss\n",
    "        torch.save(model.state_dict(), 'model.brain')\n",
    "    \n",
    "    print(f'Epoch: {epoch+1:2} | Time: {epoch_mins}m {epoch_secs}s')\n",
    "    print(f'\\tTrain Loss: {train_loss:.3f} | Train PPL: {math.exp(train_loss):7.3f}')\n",
    "    print(f'\\t Val. Loss: {valid_loss:.3f} |  Val. PPL: {math.exp(valid_loss):7.3f}')"
   ]
  },
  {
   "cell_type": "markdown",
   "metadata": {},
   "source": [
    "#### Load best fitted model"
   ]
  },
  {
   "cell_type": "code",
   "execution_count": 20,
   "metadata": {
    "pycharm": {
     "name": "#%%\n"
    }
   },
   "outputs": [
    {
     "name": "stdout",
     "output_type": "stream",
     "text": [
      "| Test Loss: 2.223 | Test PPL: 10.772 |"
     ]
    }
   ],
   "source": [
    "#load best fitted model and calculate test loss\n",
    "model.load_state_dict(torch.load('./model/model.brain', map_location=device))\n",
    "\n",
    "test_loss = evaluate(model, test_loader, criterion)\n",
    "\n",
    "print(f'| Test Loss: {test_loss:.3f} | Test PPL: {math.exp(test_loss):7.3f} |')"
   ]
  },
  {
   "cell_type": "markdown",
   "metadata": {},
   "source": [
    "## Prediction\n",
    "Predicting generated summary along with its attention matrix"
   ]
  },
  {
   "cell_type": "code",
   "execution_count": 21,
   "metadata": {},
   "outputs": [],
   "source": [
    "#function to dengerate summary from saved model\n",
    "def predict(sentence, src_field, trg_field, model, device, max_len = 50):\n",
    "\n",
    "    model.eval()\n",
    "        \n",
    "    if sentence is str:\n",
    "        nlp = spacy.load('en')\n",
    "        tokens = [token.text.lower() for token in nlp(sentence)]\n",
    "    else:\n",
    "        tokens = [token.lower() for token in sentence]\n",
    "\n",
    "    tokens = [src_field.init_token] + tokens + [src_field.eos_token]        \n",
    "    src_indexes = [src_field.vocab.stoi[token] for token in tokens]\n",
    "    \n",
    "    src_tensor = torch.LongTensor(src_indexes).unsqueeze(1).to(device)\n",
    "    src_len = torch.LongTensor([len(src_indexes)]).to(device)\n",
    "    \n",
    "    with torch.no_grad():\n",
    "        encoder_outputs, hidden = model.encoder(src_tensor, src_len)\n",
    "\n",
    "    mask = model.create_mask(src_tensor)        \n",
    "    trg_indexes = [trg_field.vocab.stoi[trg_field.init_token]]\n",
    "    attentions = torch.zeros(max_len, 1, len(src_indexes)).to(device)\n",
    "    \n",
    "    for i in range(max_len):\n",
    "\n",
    "        trg_tensor = torch.LongTensor([trg_indexes[-1]]).to(device)\n",
    "        \n",
    "        with torch.no_grad():\n",
    "            output, hidden, attention = model.decoder(trg_tensor, hidden, encoder_outputs, mask)\n",
    "\n",
    "        attentions[i] = attention            \n",
    "        pred_token = output.argmax(1).item()        \n",
    "        trg_indexes.append(pred_token)\n",
    "\n",
    "        if pred_token == trg_field.vocab.stoi[trg_field.eos_token]:\n",
    "            break\n",
    "    \n",
    "    trg_tokens = [trg_field.vocab.itos[i] for i in trg_indexes]\n",
    "    \n",
    "    return trg_tokens[1:], attentions[:len(trg_tokens)-1]"
   ]
  },
  {
   "cell_type": "code",
   "execution_count": 62,
   "metadata": {},
   "outputs": [],
   "source": [
    "# function to plot attention scores\n",
    "def plot_attention(sentence, translation, attention):\n",
    "    \n",
    "    fig = plt.figure(figsize=(32,64))\n",
    "    \n",
    "    attention = attention.squeeze(1).cpu().detach().numpy()\n",
    "    \n",
    "    cax = sns.heatmap(attention,cmap='gray', cbar=False, square=True,\\\n",
    "                     yticklabels=translation,xticklabels=sentence) \n",
    "    cax.set_yticklabels(cax.get_yticklabels(), rotation = 0, fontsize = 20)\n",
    "    cax.set_xticklabels(cax.get_xticklabels(), rotation = 90, fontsize = 20)\n"
   ]
  },
  {
   "cell_type": "markdown",
   "metadata": {},
   "source": [
    "####  Prdiction for random index"
   ]
  },
  {
   "cell_type": "code",
   "execution_count": 69,
   "metadata": {},
   "outputs": [
    {
     "name": "stdout",
     "output_type": "stream",
     "text": [
      "\u001b[1mText\u001b[0;0m = saudi arabia became the last country in the world to allow women to drive after it lifted the ban on female motorists on sunday . \" now every woman has the right to drive a car anywhere in the kingdom , \" the country 's traffic authorities spokesman said . the crown prince mohammed bin salman had announced the lifting of the ban last year .\n",
      "\n",
      "\u001b[1mHeadline\u001b[0;0m = saudi arabia becomes last country to allow women to drive\n",
      "\n",
      "\u001b[1mPredicted Headline\u001b[0;0m = saudi arabia last country to allow women to drive <eos>\n",
      "\n",
      "\t\t\t\t\t\t\tAttention Plot\n"
     ]
    },
    {
     "data": {
      "image/png": "[encoded data removed]",
      "text/plain": [
       "<Figure size 2304x4608 with 1 Axes>"
      ]
     },
     "metadata": {
      "needs_background": "light"
     },
     "output_type": "display_data"
    }
   ],
   "source": [
    "#testing\n",
    "example_idx = 17\n",
    "\n",
    "bold_start, bold_end = \"\\033[1m\", \"\\033[0;0m\"\n",
    "text = vars(test_data.examples[example_idx])['text']\n",
    "headline = vars(test_data.examples[example_idx])['headline']\n",
    "\n",
    "print(f'{bold_start}Text{bold_end} = {\" \".join(word for word in text)}\\n')\n",
    "print(f'{bold_start}Headline{bold_end} = {\" \".join(word for word in headline)}\\n')\n",
    "\n",
    "prediction, attention = predict(text, ARTICLE, SUMMARY, model, device)\n",
    "\n",
    "print(f'{bold_start}Predicted Headline{bold_end} = {\" \".join(word for word in prediction)}')\n",
    "print(\"\\n\\t\\t\\t\\t\\t\\t\\tAttention Plot\")\n",
    "plot_attention(text, prediction, attention)"
   ]
  },
  {
   "cell_type": "code",
   "execution_count": 70,
   "metadata": {},
   "outputs": [
    {
     "name": "stdout",
     "output_type": "stream",
     "text": [
      "\u001b[1mText\u001b[0;0m = a chicago - hong kong united airlines flight was diverted to alaska after a passenger reportedly spread faeces all over the plane 's bathrooms and stuffed his shirt in a toilet . the man was met by fbi agents after the flight landed , as the incident took place midair and thereby falls within federal investigators ' jurisdiction . meanwhile , the aircraft was grounded overnight for maintenance .\n",
      "\n",
      "\u001b[1mHeadline\u001b[0;0m = flight diverted after man spreads poop in bathrooms\n",
      "\n",
      "\u001b[1mPredicted Headline\u001b[0;0m = flight diverted after man spreads poop in bathrooms <eos>\n",
      "\n",
      "\t\t\t\t\t\t\tAttention Plot\n"
     ]
    },
    {
     "data": {
      "image/png": "[encoded data removed]",
      "text/plain": [
       "<Figure size 2304x4608 with 1 Axes>"
      ]
     },
     "metadata": {
      "needs_background": "light"
     },
     "output_type": "display_data"
    }
   ],
   "source": [
    "example_idx = 15\n",
    "\n",
    "bold_start, bold_end = \"\\033[1m\", \"\\033[0;0m\"\n",
    "text = vars(test_data.examples[example_idx])['text']\n",
    "headline = vars(test_data.examples[example_idx])['headline']\n",
    "\n",
    "print(f'{bold_start}Text{bold_end} = {\" \".join(word for word in text)}\\n')\n",
    "print(f'{bold_start}Headline{bold_end} = {\" \".join(word for word in headline)}\\n')\n",
    "\n",
    "prediction, attention = predict(text, ARTICLE, SUMMARY, model, device)\n",
    "\n",
    "print(f'{bold_start}Predicted Headline{bold_end} = {\" \".join(word for word in prediction)}')\n",
    "print(\"\\n\\t\\t\\t\\t\\t\\t\\tAttention Plot\")\n",
    "plot_attention(text, prediction, attention)"
   ]
  },
  {
   "cell_type": "code",
   "execution_count": null,
   "metadata": {},
   "outputs": [],
   "source": []
  }
 ],
 "metadata": {
  "kernelspec": {
   "display_name": "Python 3",
   "language": "python",
   "name": "python3"
  },
  "language_info": {
   "codemirror_mode": {
    "name": "ipython",
    "version": 3
   },
   "file_extension": ".py",
   "mimetype": "text/x-python",
   "name": "python",
   "nbconvert_exporter": "python",
   "pygments_lexer": "ipython3",
   "version": "3.7.6"
  },
  "pycharm": {
   "stem_cell": {
    "cell_type": "raw",
    "metadata": {
     "collapsed": false
    },
    "source": []
   }
  }
 },
 "nbformat": 4,
 "nbformat_minor": 4
}
